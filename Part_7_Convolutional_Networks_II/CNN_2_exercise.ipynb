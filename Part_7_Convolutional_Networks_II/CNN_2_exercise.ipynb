{
 "cells": [
  {
   "cell_type": "markdown",
   "metadata": {},
   "source": [
    "# Convolutional Neural Networks II"
   ]
  },
  {
   "cell_type": "markdown",
   "metadata": {},
   "source": [
    "### Training eines CNN mit MNIST\n",
    "\n",
    "Im Folgenden soll Convolutional Neural Network (CNN) mit den MNIST-Daten trainiert und evaluiert werden. \n",
    "\n",
    "- Lesen Sie die MNIST-Daten ein und führen Sie ein analoges Preprocessing wie im Kapitel \"Neuronale Netze 2\" (Beispiel Fashion-MNIST) durch. Splitten Sie ebenfalls analog in Trainig-, Validierungs-, und Testset auf.\n",
    "\n",
    "- Legen Sie dazu folgendes CNN an (siehe Abbildung unten, nutzen Sie die Aktivierung ReLu statt Sigmoid bei\n",
    "den Convolution-Layern):\n",
    "    - Conv-Layer 1: F=5, S=1, L=6, A='ReLu', padding='valid' ; https://keras.io/layers/convolutional/#conv2d\n",
    "    - Pool-Layer 1: F=2, S=2 : \n",
    "    - Conv-Layer 2: F=5, S=1, L=12, A='ReLu', padding='valid' ; https://keras.io/layers/pooling/#maxpooling2d\n",
    "    - Pool-Layer 2: F=2, S=2\n",
    "    - Flatten-Layer ; https://keras.io/layers/core/#flatten \n",
    "    - Softmax-Regression mit K=10 Klassen\n",
    "    \n",
    "<img src=\"conv_net_exercise.png\" height=\"100\" width=\"600\"/>\n",
    "\n",
    "- Trainieren Sie die Netz.\n",
    "- Plotten Sie die Filterkerne des ersten Conv-Layers."
   ]
  },
  {
   "cell_type": "code",
   "execution_count": null,
   "metadata": {},
   "outputs": [],
   "source": [
    "from keras.datasets import mnist\n",
    "import numpy as np\n",
    "import matplotlib.pyplot as plt\n",
    "\n",
    "(X_train, y_train), (X_test, y_test) =  mnist.load_data()\n",
    "X_train = X_train.reshape(-1,28,28,1)\n",
    "X_test  = X_test.reshape(-1,28,28,1)"
   ]
  },
  {
   "cell_type": "code",
   "execution_count": null,
   "metadata": {},
   "outputs": [],
   "source": [
    "X_train = X_train.astype(np.float32)/255.0\n",
    "y_train = y_train.astype(np.int32)\n",
    "\n",
    "X_test = X_test.astype(np.float32)/255.0\n",
    "y_test = y_test.astype(np.int32)\n",
    "\n",
    "X_valid, X_train = X_train[:5000], X_train[5000:]\n",
    "y_valid, y_train = y_train[:5000], y_train[5000:]"
   ]
  },
  {
   "cell_type": "code",
   "execution_count": null,
   "metadata": {},
   "outputs": [],
   "source": [
    "import keras\n",
    "from keras.models import Sequential\n",
    "from keras.layers import Dense, Conv2D, MaxPooling2D, Activation, Flatten\n",
    "\n",
    "# Set up the model\n",
    "\n",
    "################\n",
    "# Your Code here\n",
    "################"
   ]
  },
  {
   "cell_type": "code",
   "execution_count": null,
   "metadata": {},
   "outputs": [],
   "source": [
    "# compile the model\n",
    "\n",
    "################\n",
    "# Your Code here\n",
    "################"
   ]
  },
  {
   "cell_type": "code",
   "execution_count": null,
   "metadata": {},
   "outputs": [],
   "source": [
    "# train the model\n",
    "\n",
    "################\n",
    "# Your Code here\n",
    "################"
   ]
  },
  {
   "cell_type": "code",
   "execution_count": null,
   "metadata": {},
   "outputs": [],
   "source": [
    "import matplotlib.pyplot as plt\n",
    "\n",
    "# plot the filters\n",
    "\n",
    "################\n",
    "# Your Code here\n",
    "################"
   ]
  },
  {
   "cell_type": "markdown",
   "metadata": {},
   "source": [
    "###  Votrainierte CNNs am Beispiel VGG16\n",
    "\n",
    "- Lesen Sie wie in der Vorlesung gezeigt das VGG16 Netz ein (dieses wurde auf die Daten von ImageNet trainiert)."
   ]
  },
  {
   "cell_type": "code",
   "execution_count": null,
   "metadata": {},
   "outputs": [],
   "source": [
    "################\n",
    "# Your Code here\n",
    "################"
   ]
  },
  {
   "cell_type": "markdown",
   "metadata": {},
   "source": [
    "- Lesen Sie ein Bild Test-Bild ein (test_img.png) und führen Sie folgende Operationen durch:\n",
    "    - auf die Dimension (1,height,width,channels) reshapen\n",
    "    - mittels preprocess_input ein Preprocessing durchführen"
   ]
  },
  {
   "cell_type": "code",
   "execution_count": null,
   "metadata": {},
   "outputs": [],
   "source": [
    "from keras.preprocessing.image import load_img, img_to_array\n",
    "from keras.applications.vgg16 import preprocess_input\n",
    "\n",
    "img = load_img('test_img.png', target_size=(224, 224))\n",
    "img = img_to_array(img)\n",
    "\n",
    "################\n",
    "# Your Code here\n",
    "################"
   ]
  },
  {
   "cell_type": "markdown",
   "metadata": {},
   "source": [
    "- Klassifizieren Sie das Bild (hier hilft decode_predictions)"
   ]
  },
  {
   "cell_type": "code",
   "execution_count": null,
   "metadata": {},
   "outputs": [],
   "source": [
    "from keras.applications.vgg16 import decode_predictions\n",
    "\n",
    "################\n",
    "# Your Code here\n",
    "################"
   ]
  },
  {
   "cell_type": "markdown",
   "metadata": {},
   "source": [
    "- Visualisieren Sie alle Feature Maps des ersten Convolution-Blocks, welche beim obigen Test-Bild entstehen.\n",
    "    - Erzeugen Sie dazu ein neues Model, welches nur den ersten Convolution-Block beinhaltet. \n",
    "    - Besetzen Sie die Gewichte mit denen, des oben eingelesen VGG16-Models (Option weights = vgg16_model.layers[1].get_weights() ) "
   ]
  },
  {
   "cell_type": "code",
   "execution_count": null,
   "metadata": {},
   "outputs": [],
   "source": [
    "import keras\n",
    "from keras.models import Sequential\n",
    "from keras.layers import Dense, Conv2D, MaxPooling2D, Activation, Flatten\n",
    "\n",
    "################\n",
    "# Your Code here\n",
    "################"
   ]
  },
  {
   "cell_type": "markdown",
   "metadata": {},
   "source": [
    "- Visualisieren Sie die 64 Filterkerne der ersten Convolution des VGG16 Netzes (Mitteln Sie über die drei Farbkanäle)."
   ]
  },
  {
   "cell_type": "code",
   "execution_count": null,
   "metadata": {},
   "outputs": [],
   "source": [
    "import numpy as np\n",
    "\n",
    "################\n",
    "# Your Code here\n",
    "################"
   ]
  }
 ],
 "metadata": {
  "kernelspec": {
   "display_name": "Python 3",
   "language": "python",
   "name": "python3"
  },
  "language_info": {
   "codemirror_mode": {
    "name": "ipython",
    "version": 3
   },
   "file_extension": ".py",
   "mimetype": "text/x-python",
   "name": "python",
   "nbconvert_exporter": "python",
   "pygments_lexer": "ipython3",
   "version": "3.6.5"
  }
 },
 "nbformat": 4,
 "nbformat_minor": 2
}
