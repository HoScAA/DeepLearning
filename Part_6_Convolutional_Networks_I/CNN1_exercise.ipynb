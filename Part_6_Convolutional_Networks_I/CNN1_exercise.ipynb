{
 "cells": [
  {
   "cell_type": "markdown",
   "metadata": {},
   "source": [
    "# Convolutional Neural Networks I Exercise\n",
    "---\n",
    "\n",
    "Wie in der Vorlesung beschrieben bestehen ConvNets neben den Fully Connected Layern aus den beiden Operationen\n",
    ">- Convolution\n",
    "- Pooling\n",
    "\n",
    "### Convolution\n",
    "---\n",
    "Wir starten mit der Convolution. Im folgenden wollen wir für ein einfaches Gesicht die Feature Maps für die Gesichtsmerkmale Nase, Ohren, Mund und Nase erstellen. \n",
    "\n",
    ">- Lesen Sie dazu zuerst das das Bild face.png ein.  Plotten Sie das Bild.\n",
    "- Lesen Sie die 4 Filter für Nase, Mund, Augen, Ohren ein. \n",
    "- Führen Sie die Convolution via Keras durch (siehe https://keras.io/backend/#conv2d bzw. https://www.tensorflow.org/api_docs/python/tf/nn/conv2d). Legen Sie dazu  **input** und **filter** geeignet an.\n",
    "- Verwenden Sie einen Stride von 2. Berechnen Sie via der in der Vorlesung gezeigten Relationen die Größe des Output-Tensor und vergleichen Sie (mit output.shape).\n",
    "- Plotten Sie die 4 Outputs (= Feature Maps) der Convolution.\n",
    "- Plotten Sie die 4 Outputs (= Feature Maps) der Convolution, wobei nur die Werte geplottet werden sollen, die größer als 80% des Maximum der jeweiligen Feature Maps sind. Sie sollten in dieser Darstellung sehr klar die Positionen der Gesichtsmerkmale erkennen."
   ]
  },
  {
   "cell_type": "code",
   "execution_count": null,
   "metadata": {},
   "outputs": [],
   "source": [
    "import numpy as np\n",
    "import matplotlib.pyplot as plt\n",
    "import tensorflow as tf\n",
    "\n",
    "import keras\n",
    "from keras.models import Sequential\n",
    "from keras.layers import Dense, Conv2D, MaxPooling2D"
   ]
  },
  {
   "cell_type": "code",
   "execution_count": null,
   "metadata": {},
   "outputs": [],
   "source": [
    "# Einlesen Bild\n",
    "A = plt.imread('face.png')\n",
    "w,h = np.shape(A)\n",
    "A = A.reshape(1,w,h,1)\n",
    "\n",
    "# Einlesen des 4 Filter\n",
    "F1 = plt.imread('filter_1.png')\n",
    "################\n",
    "# Your code here\n",
    "################\n",
    "\n",
    "# Erzeugen der  filter in der Form (height,width,in_channels,out_channels)\n",
    "conv_maps = np.zeros(shape=(90,90, 1, 4), dtype=np.float32)\n",
    "################\n",
    "# Your code here\n",
    "################"
   ]
  },
  {
   "cell_type": "code",
   "execution_count": null,
   "metadata": {},
   "outputs": [],
   "source": [
    "# Plotten des Inputs und der Kernels\n",
    "################\n",
    "# Your code here\n",
    "################"
   ]
  },
  {
   "cell_type": "code",
   "execution_count": null,
   "metadata": {},
   "outputs": [],
   "source": [
    "# Erstellen des Models\n",
    "################\n",
    "# Your code here\n",
    "################"
   ]
  },
  {
   "cell_type": "code",
   "execution_count": null,
   "metadata": {},
   "outputs": [],
   "source": [
    "# Auswerten des Models\n",
    "################\n",
    "# Your code here\n",
    "################\n",
    "\n",
    "# Plotten der Feature maps\n",
    "plt.figure(figsize=(20,10))\n",
    "for k in range(4):\n",
    "    plt.subplot(1, 4 , k +1) #\n",
    "    ################\n",
    "    # Your code here\n",
    "    ################\n",
    "\n",
    "# Plotten der Werte der Feature maps die >= 80% vom max der Feature map sind\n",
    "plt.figure(figsize=(20,10))\n",
    "for k in range(4):\n",
    "    plt.subplot(1, 4 , k +1) \n",
    "   ################\n",
    "    # Your code here\n",
    "    ################\n"
   ]
  },
  {
   "cell_type": "markdown",
   "metadata": {},
   "source": [
    "### Pooling\n",
    "---\n",
    "\n",
    "Wir erweitern nun das Model von oben, indem eine Pooling-Operation (als Beispiel Max-Pooling) im Anschluss an den Convolutional-Layer durchgeführt wird.\n",
    "> Führen Sie diese Pooling Operation mittels https://keras.io/api/layers/pooling_layers/max_pooling2d/ durch. Verwenden Sie einen Filter\n",
    "Pool-Size von 5x5 und einen Stride von 2. Lassen Sie sich wiederum die entsprechenden Outputs anzeigen."
   ]
  },
  {
   "cell_type": "code",
   "execution_count": null,
   "metadata": {},
   "outputs": [],
   "source": [
    "# Erstellen des Models\n",
    "################\n",
    "# Your code here\n",
    "################"
   ]
  },
  {
   "cell_type": "code",
   "execution_count": null,
   "metadata": {},
   "outputs": [],
   "source": [
    "# Auswertung und Plot\n",
    "################\n",
    "# Your code here\n",
    "################"
   ]
  }
 ],
 "metadata": {
  "kernelspec": {
   "display_name": "Python 3",
   "language": "python",
   "name": "python3"
  },
  "language_info": {
   "codemirror_mode": {
    "name": "ipython",
    "version": 3
   },
   "file_extension": ".py",
   "mimetype": "text/x-python",
   "name": "python",
   "nbconvert_exporter": "python",
   "pygments_lexer": "ipython3",
   "version": "3.6.5"
  }
 },
 "nbformat": 4,
 "nbformat_minor": 2
}
