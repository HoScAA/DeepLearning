{
 "cells": [
  {
   "cell_type": "markdown",
   "metadata": {},
   "source": [
    "## Convolutional Neural Networks (CNN) I\n",
    "\n",
    "Die sogennanten Convolutional Neural Networks beinhalten im wesentlichen folgende drei Operationen:\n",
    "\n",
    "- Convolutional Layer\n",
    "- Pooling Layer\n",
    "- Fully Connected Layer\n",
    "\n",
    "Im folgenden behandeln wir die ersten beiden Operationen im Detail (die Fully Connected Layer entsprechen den in den vergangenen Vorlesungen eingeführten Neuronalen Netzen)."
   ]
  },
  {
   "cell_type": "markdown",
   "metadata": {},
   "source": [
    "### Convolutional Layer\n",
    "\n",
    "#### Convolutional Operation\n",
    "Die Faltungsoperationen in einem CNN sind dem visuellen Kortex des Menschen nachempfunden. Dabei wird eine vergleichsweise kleine Faltungsmatrix (der sogenannte Filterkernel oder Kernel) schrittweise über den Input (in den allermeisten Fällen ein Bild) bewegt und mittels Multiplikation lokale Korrelationen berechnet. \n",
    "\n",
    "<img src=\"cnn_conv.jpg\" height=\"100\" width=\"600\"/>\n",
    "\n",
    "\n",
    "Die Aktivation eines Neurons im Convolutional Layer berechnet sich als inneres Produkt des Filterkernels mit dem aktuell unterliegenden Bildausschnitt (plus Aktivierungsfunktion, z.B. Relu). Die Größe des Filterkerns wird als **Receptive Field** bezeichnet.\n",
    "\n",
    "Der Output eines Neurons (ohne Aktivierungsfunktion) berechnet sich hier wie folgt:\n",
    "\\begin{equation}\n",
    "z_{i,j,k} = b_k + \\sum\\limits_{u = 0}^{f_h - 1} \\, \\, \\sum\\limits_{v = 0}^{f_w - 1} \\, \\, \\sum\\limits_{k' = 0}^{f_{n'} - 1} \\, \\, x_{i', j', k'} . w_{u, v, k', k} \\quad \\text{with } \\begin{cases} i' = i \\cdot s_h + u \\\\ j' = j \\cdot s_w + v \\end{cases} \n",
    "\\end{equation}\n",
    "\n",
    "Hierbei bedeuten:\n",
    "\n",
    "- $z_{i,j,k}$: Output des Neurons in Zeile $i$, Spalte $j$ der feature map $k$ von layer $l$\n",
    "- $b_k$: Bias-Term in der Feature map $k$ von layer $l$\n",
    "- $s_h,s_w$: Horizontaler und vertikaler Stride \n",
    "- $f_h,f_w$: Höhe und Breite des receptive fields \n",
    "- $f_{n'}$: Anzahl der feature maps in layer $l-1$\n",
    "- $x_{i',j',k'}$:  Output des Neurons in Zeile $i'$, Spalte $j'$ der feature map $k'$ von layer $l-1$\n",
    "- $w_{u,v,k',k}$: Weights zwischen Neuronen feature map $k$, layer $l$ und feature map $k'$, layer $l-1$\n",
    "  \n",
    "\n",
    "Zur Berechung der Größe des Output-Tensors: Nehmen wir als Input einen Tensor  $\\mathbf{X}\\in\\mathbb{R}^{H_1\\times W_1\\times D_1}$ und nehmen zur Vereinfachung an, dass\n",
    "die Anzahl der Filter $K$, $f_h=f_w=F$, $s_h=s_w=S$ und das Zeros Padding $P$ ist, dann ist $\\mathbf{Z}\\in\\mathbb{R}^{H_2\\times W_2\\times D_2}$ mit\n",
    "\\begin{eqnarray*}\n",
    "H_2 &=& \\frac{H_1-F+2P}{S}+1 \\\\\n",
    "W_2 &=& \\frac{W_1-F+2P}{S}+1 \\\\\n",
    "D_2 &=& K\n",
    "\\end{eqnarray*}\n",
    "\n",
    "<img src=\"cnn_conv2.jpg\" height=\"100\" width=\"400\"/>\n",
    "\n",
    "#### Implementierung in Keras/Tensorflow\n",
    "\n",
    "Die Implentation mittels Keras erfolgt über https://keras.io/api/layers/convolution_layers/convolution2d/. Es müssen folgende Eingaben gemacht werden:\n",
    "- Der Input-Tensor $x$ eine Tensor 3. Stufe (rows,cols,channels) sein mit\n",
    "    - rows: Zeilenanzahl des Bildes = Höhe\n",
    "    - cols: Spaltenanzahl ders Bildes = Breite\n",
    "    - channels: Farbkanäle \n",
    "- Der Filterkern $kernel$  muss  ein Tensor 4. Stufe $(f_h,f_w,n_i,n_o)$ sein mit\n",
    "    - $f_h$: Höhe des Filters\n",
    "    - $f_w$: Breite (width) des Filters\n",
    "    - $n_i$: Anzahl Eingangskanäle (in)\n",
    "    - $n_o$: Anzahl Ausgangskanäle (out)\n",
    "- Die strides als Tupel $(s_h,s_w)$"
   ]
  },
  {
   "cell_type": "markdown",
   "metadata": {},
   "source": [
    "### Pooling\n",
    "\n",
    "#### Pooling Operation\n",
    "\n",
    "Im Vergleich zur Convolution ist die Pooling Operation sehr einfach. Die gängigste Version ist die max-pooling Operation, bei der auf dem Receptive Field einfach das Maximum gebildet wird. In der folgenden Abbildung ist eine Max Pooling Operation mit einem $2\\times 2$-Filter und einen Stride von $S=2$ gezeigt.\n",
    "\n",
    "<img src=\"pooling.png\" height=\"100\" width=\"400\"/>\n",
    "\n",
    "#### Implementierung in Keras/Tensorflow\n",
    "\n",
    "Die (Max-) Pooling-Operation mittels Keras findet sich unter https://keras.io/api/layers/pooling_layers/max_pooling2d/.  Es müssen folgende Eingaben gemacht werden: \n",
    "\n",
    "- Den $pool\\_size$ als Tupel $(p_h,p_w)$\n",
    "- Die $strides$ als Tupel $(s_h,s_w)$"
   ]
  },
  {
   "cell_type": "markdown",
   "metadata": {},
   "source": [
    "#### Wichtiger Hinweis für die Implementierung in Keras\n",
    "\n",
    "Folgende Vorgehensweise bietet sich zum\n",
    "> - Anlegen einer Convolutional Operation\n",
    "- Setzen der Gewichte (parameter/weights)\n",
    "- Auswerten \n",
    "\n",
    "an:"
   ]
  },
  {
   "cell_type": "code",
   "execution_count": null,
   "metadata": {},
   "outputs": [],
   "source": [
    "import keras\n",
    "from keras.models import Sequential\n",
    "from keras.layers import Conv2D, MaxPool2D\n",
    "\n",
    "# Sequential Model erstellen:_\n",
    "model = Sequential()\n",
    "\n",
    "# Anlegen des Conv2D-Layers\n",
    "model.add(Conv2D(...))\n",
    "\n",
    "# Model compilieren (muss sein, auch wenn nicht trainiert wird)\n",
    "model.compile(...)\n",
    "\n",
    "# Händisches Setzen der Gewichte\n",
    "model.get_layer('Name of layer').set_weights([ numpy array of layer])\n",
    "\n",
    "# Auserten\n",
    "model.predict()"
   ]
  }
 ],
 "metadata": {
  "kernelspec": {
   "display_name": "Python 3",
   "language": "python",
   "name": "python3"
  },
  "language_info": {
   "codemirror_mode": {
    "name": "ipython",
    "version": 3
   },
   "file_extension": ".py",
   "mimetype": "text/x-python",
   "name": "python",
   "nbconvert_exporter": "python",
   "pygments_lexer": "ipython3",
   "version": "3.6.5"
  }
 },
 "nbformat": 4,
 "nbformat_minor": 2
}
