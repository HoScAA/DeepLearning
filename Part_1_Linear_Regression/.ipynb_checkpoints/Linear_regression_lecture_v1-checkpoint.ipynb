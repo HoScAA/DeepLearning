{
 "cells": [
  {
   "cell_type": "markdown",
   "metadata": {},
   "source": [
    "## Lineare Regression"
   ]
  },
  {
   "cell_type": "markdown",
   "metadata": {},
   "source": [
    "### Einführung"
   ]
  },
  {
   "cell_type": "markdown",
   "metadata": {},
   "source": [
    "Lineare Regression ist ein Supervised Machine Learning Problem. Die Targets sind hier reelle Zahlen (können also beliebige Werte annehmen).\n",
    "Ein Beispiel für ein Target ist der Preis eines Hauses (als Inputs können die Größe des Hauses, des\n",
    "Grundstücks, die Anzahl der Zimmer, die Lage, das Baujahr, etc. fungieren).\n",
    "\n",
    "Wir gehen im folgeden vom $m$ Training Examples der Form\n",
    "$$\n",
    "(\\vec{x}^{(i)}, y^{(i)}), \\quad \\vec{x}^{(i)}\\in\\mathbb{R}^n, \\,y^{(i)}\\in\\mathbb{R}\n",
    "$$\n",
    "aus. Wir unterscheiden folgende Fälle. \n",
    "- Für $n = 1$, d.h. nur ein Feature pro Traininig Example spricht man \n",
    "von der **Linearen Regression**\n",
    "- Im Falle $n\\geq 2$ spricht man von der **Multivariaten Linearen Regression**. \n",
    "\n",
    "In beiden Fällen führen wir die **Costfunction** oder **Errorfunction** eingeführt, welche ein Maß\n",
    "für die Abweichung der Hypothese zum wahren Target darstellt.\n",
    "\n",
    "Wir beginnen mit dem Fall $n=1$ (Lineare Regression):\n",
    "$x^{(i)}$ bezeichne das Alter und $y^{(i)}$ die Größe von Kindern. Es seien $m = 50$ Traingssets\n",
    "gegeben (siehe folgende Tabelle).\n",
    "\n",
    "| Alter in Jahren $x^{(i)}$ |   Größe in m $y(i)$ |\n",
    "|---------------------------|-------------------|\n",
    "|  2.065                    | 0.7791            |\n",
    "|  2.368                    | 0.7791            |\n",
    "|  2.369                    | 0.9053            |\n",
    "|  2.542                    | 0.9056            |\n",
    "|  .....                    | ......            |\n",
    "|  7.826                    | 1.2601            |\n",
    "|  7.930                    | 1.2562            |\n",
    "\n",
    "Ein Plot der Daten ergibt folgendes Bild."
   ]
  },
  {
   "cell_type": "code",
   "execution_count": 10,
   "metadata": {},
   "outputs": [
    {
     "data": {
      "image/png": "[encoded data removed]",
      "text/plain": [
       "<Figure size 432x288 with 1 Axes>"
      ]
     },
     "metadata": {
      "needs_background": "light"
     },
     "output_type": "display_data"
    }
   ],
   "source": [
    "import numpy as np\n",
    "import matplotlib.pyplot as plt\n",
    "\n",
    "X = np.loadtxt('datasets/kids/k_x.dat')\n",
    "y = np.loadtxt('datasets/kids/k_y.dat')\n",
    "plt.plot(X,y,'o')\n",
    "plt.xlabel('Alter ')\n",
    "plt.ylabel('Größe')\n",
    "#plt.axis([0,18,0,1.9])\n",
    "plt.grid()\n",
    "plt.show()"
   ]
  },
  {
   "cell_type": "markdown",
   "metadata": {},
   "source": [
    "### Die Costfunction"
   ]
  },
  {
   "cell_type": "markdown",
   "metadata": {},
   "source": [
    "Wir wollen eine Hypothese $h_{\\vec{w}}(x)$ als lineare Funktion\n",
    "$$\n",
    "h_{\\vec{w}}(x) = w_0 + w_1x\n",
    "$$\n",
    "mit den sogenannten Parameter \n",
    "$$\n",
    "\\vec{w}=\\begin{pmatrix} w_0 \\\\ w_1 \\end{pmatrix}\n",
    "$$ \n",
    "aufstellen, welche die Training Examples mit einem möglichst kleinen Fehler approximiert. Wir stellen dazu folgende **Costfunction** oder **Errorfunction** auf\n",
    "$$\n",
    "J(\\vec{w}) = J(w_0,w_1) = \\frac{1}{2}\\sum_{i=1}^m \\left(h_{\\vec{w}}(x^{(i)})-y^{(i)}\\right)^2\\, .\n",
    "$$\n",
    "Diese errechnet den mittleren quadratischen Abstand zwischen Hypthose und Target für alle Training Examlples. Im folgenden python code können die\n",
    "beiden Parameter $w_0$ und $w_1$ eingegeben werden. Die Gerade wird mit den Daten von oben geplottet und die Costfunction wird berechnet.\n",
    "\n",
    "Zu besseren Darstellung definieren wir Vektoren $\\vec{x}^{(i)}$ als\n",
    "$$\n",
    "\\vec{x}^{(i)} =  \\begin{pmatrix} 1 \\\\ x^{(i)} \\end{pmatrix}\\,.\n",
    "$$\n",
    "Damit lautet die Hypothese\n",
    "$$\n",
    "h_{\\vec{w}}(\\vec{x}) = \\vec{w}^T\\cdot\\vec{x}.\n",
    "$$\n",
    "\n",
    "Im Falle $n\\geq 2$ (Multivariate Lineare Regression) können wir diese Nomenklatur übernehmen. Es ist dann\n",
    "$$\n",
    "h_{\\vec{w}}(\\vec{x}) = \\vec{w}^T\\cdot\\vec{x} = w_0 + w_1x_1 + w_2x_2 + \\ldots w_n x_n,\\quad \\mathrm{d.h.}\\quad \n",
    "\\vec{x} =\\begin{pmatrix} 1 \\\\ x_1 \\\\ x_2 \\\\ \\vdots \\\\ x_n \\end{pmatrix},\\, \\vec{w} =\\begin{pmatrix} w_0 \\\\ w_1 \\\\ w_2 \\\\ \\vdots \\\\ w_n \\end{pmatrix}.\n",
    "$$\n",
    "und \n",
    "$$\n",
    "J(\\vec{w}) = J(w_0,w_1,\\ldots,w_n) = \\frac{1}{2}\\sum_{i=1}^m \\left(h_{\\vec{w}}(\\vec{x}^{(i)})-y^{(i)}\\right)^2\\, .\n",
    "$$"
   ]
  },
  {
   "cell_type": "code",
   "execution_count": null,
   "metadata": {},
   "outputs": [],
   "source": [
    "X = X.reshape(1,50)\n",
    "y = y.reshape(50,1)"
   ]
  },
  {
   "cell_type": "code",
   "execution_count": 17,
   "metadata": {},
   "outputs": [
    {
     "data": {
      "image/png": "[encoded data removed]",
      "text/plain": [
       "<Figure size 432x288 with 1 Axes>"
      ]
     },
     "metadata": {
      "needs_background": "light"
     },
     "output_type": "display_data"
    },
    {
     "name": "stdout",
     "output_type": "stream",
     "text": [
      "J=0.049332482510868164\n"
     ]
    }
   ],
   "source": [
    "import matplotlib.pyplot as plt\n",
    "import numpy as np\n",
    "\n",
    "# Eingabe der Parameter w_0 und w_1 (Achsenabschnitt und Steigung)\n",
    "\n",
    "w_0 = 0.7512662476355363\n",
    "w_1 = 0.06370099\n",
    "X = np.array(np.loadtxt('datasets/kids/k_x.dat'),ndmin=2)\n",
    "y = np.array(np.loadtxt('datasets/kids/k_y.dat'),ndmin=2)\n",
    "plt.scatter(X,y)\n",
    "# Plotten der Geraden w_0 + w_1*x\n",
    "x_p = np.linspace(0,10,1000)\n",
    "y_p = w_0 + w_1*x_p\n",
    "plt.plot(x_p,y_p,'r')\n",
    "plt.show()\n",
    "# Berechung der Costfunction\n",
    "X = np.vstack((np.ones((1,50)),X))\n",
    "y = np.transpose(y)\n",
    "print('J=' + str(0.5*np.linalg.norm( np.dot(np.transpose(X),np.array([[w_0],[w_1] ])) - y)**2))"
   ]
  },
  {
   "cell_type": "markdown",
   "metadata": {},
   "source": [
    "### Das Gradient Descent Verfahren"
   ]
  },
  {
   "cell_type": "markdown",
   "metadata": {},
   "source": [
    "Der Gradient errechnet sich zu\n",
    "$$\n",
    "\\vec{\\nabla} J(\\vec{w}) = \\frac{1}{2}\\sum_{i=1}^m \\left(\\vec{w}^T\\cdot \\vec{x}^{(i)}-y^{(i)} \\right)\\vec{x}^{(i)}\n",
    "$$\n",
    "Folgende Iteration wird bis zu Konvergenz durchgeführt\n",
    "$$\n",
    "\\vec{w} \\quad \\rightarrow \\vec{w}-\\alpha \\vec{\\nabla} J(\\vec{w})\\,. \n",
    "$$\n",
    "Der Parameter $\\alpha$ heisst **Learning Rate**.\n",
    "\n",
    "Wir **vektorisieren** den code, indem wir Training Examples als Spaltenvektoren in ein Matrix $\\mathbf{X}$ zusammenfassen. Es ergibt sich\n",
    "$$\n",
    "\\vec{w} \\rightarrow \\vec{w} - \\alpha \\mathbf{X}\\left(\\mathbf{X}^T\\vec{w}-\\vec{y}\\right),\\quad \\mathrm{mit} \\quad \\mathbf{X} = \\begin{pmatrix} \\vec{x}^{(1)} & \\ldots & \\vec{x}^{(m)}\\end{pmatrix}, \\, \\vec{y} = \\begin{pmatrix} y^{(1)} \\\\ \\vdots \\\\ y^{(m)} \\end{pmatrix}\n",
    "$$"
   ]
  },
  {
   "cell_type": "markdown",
   "metadata": {},
   "source": [
    "### Normalengeleichungen"
   ]
  },
  {
   "cell_type": "markdown",
   "metadata": {},
   "source": [
    "Wir führen folgende Definition ein:\n",
    "$$\n",
    "\\mathbf{X} = \n",
    "\\begin{pmatrix} \n",
    "\\left(\\vec{x}^{(1)}\\right)^T \\\\ \n",
    "\\left(\\vec{x}^{(2)}\\right)^T \\\\ \n",
    "\\vdots\\\\\n",
    "\\left(\\vec{x}^{(m)}\\right)^T \\\\ \n",
    "\\end{pmatrix}\n",
    "$$\n",
    "Minimieren wir die Costfunktion nun, indem wir die erste Ableitung (den Gradient) bestimmen (die Ableitungen werden\n",
    "nach den Parametern gebildet) und diese dann Null setzen, so erhalten wir folgende geschlossene Form (siehe Vorlesung) für die Parameter $\\vec{w}$:\n",
    "$$\n",
    "\\vec{w} = \\left(\\mathbf{X}^T\\mathbf{X}\\right)^{-1}\\mathbf{X}^T\\vec{y}\\,.\n",
    "$$\n",
    "Wichtig: Diese einfache Form der Bestimmung der Parameter ist ist nur im Falle der lineaeren Regression möglich. Alle anderen ML Algorithmen benötigen iterative Verfahren wie das Gradient Descent Verfahren."
   ]
  },
  {
   "cell_type": "markdown",
   "metadata": {},
   "source": [
    "### Bestimmtheitsmaß/ $R^2$-Wert\n",
    "\n",
    "Im Falle einer linearen Regression der $R^2$-Wert (auch Bestimmtheitsmaß genannt) definiert als **der Anteil der durch die Regression erklärten Quadratsumme an der zu erklärenden totalen Quadratsumme** und gibt an, wie viel Streuung in den Daten durch ein vorliegendes lineares Regressionsmodell „erklärt“ werden kann.\n",
    "\n",
    "$$\n",
    "R^2 = \\frac{\\sum\\limits_{i=1}^m \\left(h_{\\vec{w}}(\\vec{x}^{(i)})-\\bar{y}\\right)^2}{\\sum\\limits_{i=1}^m \\left(y^{(i)}-\\bar{y}\\right)^2}\n",
    "$$"
   ]
  },
  {
   "cell_type": "markdown",
   "metadata": {},
   "source": [
    "### Lineare Regression mittels sklearn\n",
    "\n",
    "Die Python-Bibliothek sklearn bietet ein entsprechende Modul für (multivariate) lineare Regression an:\n",
    "\n",
    "https://scikit-learn.org/stable/modules/generated/sklearn.linear_model.LinearRegression.html\n",
    "\n",
    "Die wichtigen Methoden sind:\n",
    "- fit(X,y):  Berechnet die Hypothese. Die Datenmatrix $X$ muss als $m\\times n$-array vorliegen (Traingsbeipsiele zeilenweise!), der Targetvektor y als $m$-array.\n",
    "- score(X,y): Bestimmt $R^2$.\n",
    "- predict(X): Wertet die Hypothese aus.\n",
    "\n",
    "Wichtige Attribute sind:\n",
    "\n",
    "- coef_ : Gibt die Parameter $(w_1,w_2,\\ldots,w_n)$ zurück\n",
    "- intercept_ : Gibt den Parameter $w_0$ zurück"
   ]
  },
  {
   "cell_type": "code",
   "execution_count": 15,
   "metadata": {},
   "outputs": [
    {
     "data": {
      "text/plain": [
       "(0.7512662476355363, array([0.06370099]))"
      ]
     },
     "execution_count": 15,
     "metadata": {},
     "output_type": "execute_result"
    }
   ],
   "source": [
    "import numpy as np\n",
    "from sklearn.linear_model import LinearRegression \n",
    "lr = LinearRegression()\n",
    "\n",
    "X = np.loadtxt('datasets/kids/k_x.dat').reshape(50,1)\n",
    "y = np.loadtxt('datasets/kids/k_y.dat')\n",
    "\n",
    "lr.fit(X,y)\n",
    "lr.score(X,y)\n",
    "lr.predict(1)\n",
    "lr.intercept_, lr.coef_"
   ]
  }
 ],
 "metadata": {
  "kernelspec": {
   "display_name": "Python 3",
   "language": "python",
   "name": "python3"
  },
  "language_info": {
   "codemirror_mode": {
    "name": "ipython",
    "version": 3
   },
   "file_extension": ".py",
   "mimetype": "text/x-python",
   "name": "python",
   "nbconvert_exporter": "python",
   "pygments_lexer": "ipython3",
   "version": "3.6.5"
  }
 },
 "nbformat": 4,
 "nbformat_minor": 2
}
