{
 "cells": [
  {
   "cell_type": "markdown",
   "metadata": {},
   "source": [
    "# Übung Lineare Regression"
   ]
  },
  {
   "cell_type": "markdown",
   "metadata": {},
   "source": [
    "### Lineare Regression\n",
    "\n",
    "Betrachten Sie das Beispiel mit $n=1$ aus der Vorlesung (Inputs $x^{(i)}$:\n",
    "Alter in Jahren, Targets $y^{(i)}$: Größe in m). Lesen Sie zuerst die Daten ein:"
   ]
  },
  {
   "cell_type": "code",
   "execution_count": 35,
   "metadata": {},
   "outputs": [],
   "source": [
    "import numpy as np\n",
    "X = np.loadtxt('datasets/kids/k_x.dat')\n",
    "X = np.reshape(X,(1,50))\n",
    "y = np.loadtxt('datasets/kids/k_y.dat')\n",
    "y = np.reshape(y,(1,50))"
   ]
  },
  {
   "cell_type": "markdown",
   "metadata": {},
   "source": [
    "Erzeugen Sie die Matrix $\\mathbf{X}$  aus der Vorlesung (d.h. mit 1 in der ersten Zeile).\n",
    "\n",
    "- Nutzen Sie dazu numpy.vstack (https://docs.scipy.org/doc/numpy-1.15.0/reference/generated/numpy.vstack.html)"
   ]
  },
  {
   "cell_type": "code",
   "execution_count": 1,
   "metadata": {},
   "outputs": [],
   "source": [
    "################\n",
    "# Your code here\n",
    "################\n"
   ]
  },
  {
   "cell_type": "markdown",
   "metadata": {},
   "source": [
    "### Gradient Descent\n",
    "\n",
    "Führen Sie das Gradient Descent Verfahren aus der Vorlesung für obiges Beispiel durch. Initialisieren sie das die Parameter als normalverteilte Zufallszahlen und wählen Sie eine geeignete Learning Rate.\n",
    "\n",
    "- Als Ergebnis sollten Sie $(w_0,w_1) = (0.751,0.064)$ erhalten."
   ]
  },
  {
   "cell_type": "code",
   "execution_count": 36,
   "metadata": {},
   "outputs": [],
   "source": [
    "w = np.random.randn(2,1)*0.05\n",
    "alpha = 0.001\n",
    "iterations = 10000\n",
    "\n",
    "################\n",
    "# Your code here\n",
    "################"
   ]
  },
  {
   "cell_type": "markdown",
   "metadata": {},
   "source": [
    "### Normal equation\n",
    "\n",
    "Nutzen Sie die Normalengleichungen aus der Vorlesung um die Paramter $\\vec{w}$ zu bestimmen. Vergleichen Sie mit dem Gradient Descent Verfahren."
   ]
  },
  {
   "cell_type": "code",
   "execution_count": 3,
   "metadata": {},
   "outputs": [],
   "source": [
    "################\n",
    "# Your code here\n",
    "################\n"
   ]
  },
  {
   "cell_type": "markdown",
   "metadata": {},
   "source": [
    "### Evaluate cost Function (optional)\n",
    "\n",
    "Werten Sie die Cost Function auf einem Gitter aus, plotten Sie die Höhenlinen der Funktion (logarithmische Skala \n",
    "der Levels) und lesen die dann das Wertepaar $(w_0,w_1)$ ab, welches $J$ minimiert."
   ]
  },
  {
   "cell_type": "code",
   "execution_count": 6,
   "metadata": {},
   "outputs": [],
   "source": [
    "import matplotlib\n",
    "import matplotlib.pyplot as plt\n",
    "\n",
    "n = 100\n",
    "w0,w1 = np.meshgrid(np.linspace(-2,2,n), np.linspace(-0.5,0.5,n))\n",
    "J = np.zeros((n,n))\n",
    "\n",
    "################\n",
    "# Your code here\n",
    "################\n"
   ]
  },
  {
   "cell_type": "markdown",
   "metadata": {},
   "source": [
    "### Hypothese mittels Parameter\n",
    "\n",
    "Schätzen Sie die Größe von Kindern im Alter von 3.5 und 7.2 Jahren."
   ]
  },
  {
   "cell_type": "code",
   "execution_count": 7,
   "metadata": {},
   "outputs": [],
   "source": [
    "################\n",
    "# Your code here\n",
    "################\n"
   ]
  },
  {
   "cell_type": "markdown",
   "metadata": {},
   "source": [
    "### Berechung der Parameter, Hypothese etc. mittels sklearn\n",
    "\n",
    "Nutzen Sie das sklearn-Modul von python, um die lineare Regression durchzuführen (http://scikit-learn.org/stable/modules/generated/sklearn.linear_model.LinearRegression.html), d.h.\n",
    "\n",
    "- die Parameter $(w_0,w_1)$ zu bestimmen: $w_1$ ist gegeben durch **coef\\_** und $w_0$ durch **intercept\\_**\n",
    "- die Größe einen Kindes von 7.2 Jahren zu schätzen: Nutzen Sie die Methode **predict**\n",
    "- den $R^2$-Wert zu berechnen: Nutzen Sie die Methode **score**"
   ]
  },
  {
   "cell_type": "code",
   "execution_count": 38,
   "metadata": {},
   "outputs": [],
   "source": [
    "from sklearn.linear_model import LinearRegression \n",
    "################\n",
    "# Your code here\n",
    "################\n"
   ]
  },
  {
   "cell_type": "markdown",
   "metadata": {},
   "source": [
    "### Multivariate Regression\n",
    "\n",
    "Ein Beispiel für eine multivariate lineare Regression schätzen wir die Preise von Häusern mittels der beiden features Größe und Anzahl Räume. Benutzen Sie wieder das LinearRegression-Modul von sklearn.\n",
    "\n",
    "- Bestimmen Sie die Parameter $(w_0,w_1,w_2)$.\n",
    "- Schätzen Sie den Preis eines Hauses der Größe 1650 und 3 Zimmer.\n",
    "- Berechnen Sie $R^2$."
   ]
  },
  {
   "cell_type": "code",
   "execution_count": null,
   "metadata": {},
   "outputs": [],
   "source": [
    "import numpy as np\n",
    "X = np.loadtxt('datasets/housing/h_x.dat')\n",
    "y = np.loadtxt('datasets/housing/h_y.dat')\n",
    "y = np.reshape(y,(47,1))\n",
    "################\n",
    "# Your code here\n",
    "################\n"
   ]
  }
 ],
 "metadata": {
  "kernelspec": {
   "display_name": "Python 3",
   "language": "python",
   "name": "python3"
  },
  "language_info": {
   "codemirror_mode": {
    "name": "ipython",
    "version": 3
   },
   "file_extension": ".py",
   "mimetype": "text/x-python",
   "name": "python",
   "nbconvert_exporter": "python",
   "pygments_lexer": "ipython3",
   "version": "3.6.5"
  }
 },
 "nbformat": 4,
 "nbformat_minor": 2
}
