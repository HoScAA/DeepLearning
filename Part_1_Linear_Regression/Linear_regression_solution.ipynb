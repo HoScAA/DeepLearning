{
 "cells": [
  {
   "cell_type": "markdown",
   "metadata": {},
   "source": [
    "# Übung Lineare Regression"
   ]
  },
  {
   "cell_type": "markdown",
   "metadata": {},
   "source": [
    "### Lineare Regression\n",
    "\n",
    "Betrachten Sie das Beispiel mit $n=1$ aus der Vorlesung (Inputs $x^{(i)}$:\n",
    "Alter in Jahren, Targets $y^{(i)}$: Größe in m). Lesen Sie zuerst die Daten ein:"
   ]
  },
  {
   "cell_type": "code",
   "execution_count": 16,
   "metadata": {},
   "outputs": [
    {
     "data": {
      "text/plain": [
       "array([[2.0658746, 2.3684087, 2.3699929, 2.5420804, 2.549079 , 2.7866882,\n",
       "        2.9116825, 3.035627 , 3.1146696, 3.1582389, 3.3275944, 3.3793165,\n",
       "        3.4122006, 3.4215823, 3.5315732, 3.6393002, 3.6732537, 3.9256462,\n",
       "        4.0498646, 4.2483348, 4.3440052, 4.3826531, 4.4230602, 4.6102443,\n",
       "        4.6881183, 4.9777333, 5.0359967, 5.0684536, 5.4161491, 5.4395623,\n",
       "        5.4563207, 5.5698458, 5.6015729, 5.6877617, 5.7215602, 5.8538914,\n",
       "        6.1978026, 6.3510941, 6.4797033, 6.7383791, 6.8637686, 7.0223387,\n",
       "        7.0782373, 7.1514232, 7.4664023, 7.5973874, 7.7440717, 7.7729662,\n",
       "        7.8264514, 7.9306356]])"
      ]
     },
     "execution_count": 16,
     "metadata": {},
     "output_type": "execute_result"
    }
   ],
   "source": [
    "import numpy as np\n",
    "X = np.loadtxt('datasets/kids/k_x.dat')\n",
    "X = np.reshape(X,(1,50))\n",
    "y = np.loadtxt('datasets/kids/k_y.dat')\n",
    "y = np.reshape(y,(50,1))\n",
    "X"
   ]
  },
  {
   "cell_type": "markdown",
   "metadata": {},
   "source": [
    "Erzeugen Sie die Matrix $\\mathbf{X}$  aus der Vorlesung (d.h. mit 1 in der ersten Zeile).\n",
    "\n",
    "- numpy.vstack hift Ihnen weiter"
   ]
  },
  {
   "cell_type": "code",
   "execution_count": 17,
   "metadata": {},
   "outputs": [
    {
     "data": {
      "text/plain": [
       "array([[1.       , 1.       , 1.       , 1.       , 1.       , 1.       ,\n",
       "        1.       , 1.       , 1.       , 1.       , 1.       , 1.       ,\n",
       "        1.       , 1.       , 1.       , 1.       , 1.       , 1.       ,\n",
       "        1.       , 1.       , 1.       , 1.       , 1.       , 1.       ,\n",
       "        1.       , 1.       , 1.       , 1.       , 1.       , 1.       ,\n",
       "        1.       , 1.       , 1.       , 1.       , 1.       , 1.       ,\n",
       "        1.       , 1.       , 1.       , 1.       , 1.       , 1.       ,\n",
       "        1.       , 1.       , 1.       , 1.       , 1.       , 1.       ,\n",
       "        1.       , 1.       ],\n",
       "       [2.0658746, 2.3684087, 2.3699929, 2.5420804, 2.549079 , 2.7866882,\n",
       "        2.9116825, 3.035627 , 3.1146696, 3.1582389, 3.3275944, 3.3793165,\n",
       "        3.4122006, 3.4215823, 3.5315732, 3.6393002, 3.6732537, 3.9256462,\n",
       "        4.0498646, 4.2483348, 4.3440052, 4.3826531, 4.4230602, 4.6102443,\n",
       "        4.6881183, 4.9777333, 5.0359967, 5.0684536, 5.4161491, 5.4395623,\n",
       "        5.4563207, 5.5698458, 5.6015729, 5.6877617, 5.7215602, 5.8538914,\n",
       "        6.1978026, 6.3510941, 6.4797033, 6.7383791, 6.8637686, 7.0223387,\n",
       "        7.0782373, 7.1514232, 7.4664023, 7.5973874, 7.7440717, 7.7729662,\n",
       "        7.8264514, 7.9306356]])"
      ]
     },
     "execution_count": 17,
     "metadata": {},
     "output_type": "execute_result"
    }
   ],
   "source": [
    "################\n",
    "# Your code here\n",
    "################\n",
    "X = np.vstack((np.ones((1,50)),X))\n",
    "X"
   ]
  },
  {
   "cell_type": "markdown",
   "metadata": {},
   "source": [
    "### Gradient Descent\n",
    "\n",
    "Führen Sie das Gradient Descent Verfahren aus der Vorlesung für obiges Beispiel durch. Initialisieren sie das die Parameter als normalverteilte Zufallszahlen und wählen Sie eine geeignete Learning Rate. \n",
    "\n",
    "- Als Ergebnis sollten Sie $(w_0,w_1) = (0.751,0.064)$ erhalten."
   ]
  },
  {
   "cell_type": "code",
   "execution_count": 35,
   "metadata": {},
   "outputs": [
    {
     "name": "stdout",
     "output_type": "stream",
     "text": [
      "[[0.75126625]\n",
      " [0.06370099]]\n"
     ]
    }
   ],
   "source": [
    "import matplotlib\n",
    "import matplotlib.pyplot as plt\n",
    "\n",
    "w = np.random.randn(2,1)*0.05\n",
    "#print(w)\n",
    "alpha = 0.001\n",
    "iterations = 100000\n",
    "################\n",
    "# Your code here\n",
    "################\n",
    "for i in range(iterations):\n",
    "    w = w - alpha*np.dot(X,np.dot(X.T,w)-y)\n",
    "print(w)"
   ]
  },
  {
   "cell_type": "markdown",
   "metadata": {},
   "source": [
    "### Normal equation\n",
    "\n",
    "Nutzen Sie die Normalengleichungen aus der Vorlesung um die Paramter $\\vec{w}$ zu bestimmen. Vergleichen Sie mit dem Gradient Descent Verfahren."
   ]
  },
  {
   "cell_type": "code",
   "execution_count": 4,
   "metadata": {},
   "outputs": [
    {
     "name": "stdout",
     "output_type": "stream",
     "text": [
      "[[0.75126625]\n",
      " [0.06370099]]\n"
     ]
    }
   ],
   "source": [
    "################\n",
    "# Your code here\n",
    "################\n",
    "w2 = np.dot(np.linalg.inv(np.dot(X,X.T)),np.dot(X,y))\n",
    "print(w2)"
   ]
  },
  {
   "cell_type": "markdown",
   "metadata": {},
   "source": [
    "### Evaluate cost function\n",
    "\n",
    "Werten Sie die Cost Function auf einem Gitter aus, plotten Sie die Höhenlinen der Funktion (logarithmische Skala \n",
    "der Levels) und lesen die dann das Wertepaar $(w_0,w_1)$ ab, welches $J$ minimiert."
   ]
  },
  {
   "cell_type": "code",
   "execution_count": 45,
   "metadata": {},
   "outputs": [
    {
     "data": {
      "image/png": "[encoded data removed]",
      "text/plain": [
       "<Figure size 432x288 with 2 Axes>"
      ]
     },
     "metadata": {
      "needs_background": "light"
     },
     "output_type": "display_data"
    }
   ],
   "source": [
    "import matplotlib\n",
    "import matplotlib.pyplot as plt\n",
    "\n",
    "n = 100\n",
    "w0,w1 = np.meshgrid(np.linspace(-2,2,n), np.linspace(-0.5,0.5,n))\n",
    "J = np.zeros((n,n))\n",
    "\n",
    "################\n",
    "# Your code here\n",
    "################\n",
    "\n",
    "# Berechne für jeden Wert (w0,w1) auf dem Gitter den Wert der Costfunction J(w0,w1)\n",
    "for k in range(n):\n",
    "    for l in range(n):\n",
    "        J[k,l] =  0.5*np.linalg.norm( np.dot(X.T,np.array( [ [w0[k,l]] , [w1[k,l] ] ] )) - y)**2\n",
    "# Wir plotten die Höhenlinien mit logaritmischem Spacing\n",
    "plt.contourf(w0, w1, J,levels = np.logspace(-2,3,15),cmap='jet')\n",
    "plt.colorbar()\n",
    "plt.xlabel('w0')\n",
    "plt.ylabel('w1')\n",
    "plt.title('J(w0,w1)')\n",
    "\n",
    "plt.show()\n"
   ]
  },
  {
   "cell_type": "markdown",
   "metadata": {},
   "source": [
    "### Hypothese mittels Parameter\n",
    "\n",
    "Schätzen Sie die Größe von Kindern im Alter von 3.5 und 7.2 Jahren."
   ]
  },
  {
   "cell_type": "code",
   "execution_count": 55,
   "metadata": {},
   "outputs": [
    {
     "name": "stdout",
     "output_type": "stream",
     "text": [
      "[[0.9742197]]\n",
      "[[1.20991335]]\n"
     ]
    }
   ],
   "source": [
    "################\n",
    "# Your code here\n",
    "################\n",
    "h1 = np.dot(w.T,np.array([[1],[3.5]]))\n",
    "h2 = np.dot(w.T,np.array([[1,7.2]]).T)\n",
    "print(h1)\n",
    "print(h2)\n"
   ]
  },
  {
   "cell_type": "markdown",
   "metadata": {},
   "source": [
    "### Berechung der Parameter, Hypothese etc. mittels sklearn\n",
    "\n",
    "Nutzen Sie das sklearn-Modul von python, um die lineare Regression durchzuführen (http://scikit-learn.org/stable/modules/generated/sklearn.linear_model.LinearRegression.html), d.h.\n",
    "\n",
    "- die Parameter $(w_0,w_1)$ zu bestimmen.\n",
    "- die Größe einen Kindes von 7.2 Jahren zu schätzen\n",
    "- den $R^2$-Wert zu berechnen "
   ]
  },
  {
   "cell_type": "code",
   "execution_count": 61,
   "metadata": {},
   "outputs": [
    {
     "name": "stdout",
     "output_type": "stream",
     "text": [
      "[0.75126625] [[0.06370099]]\n",
      "[[1.20991335]\n",
      " [1.00607019]\n",
      " [0.9614795 ]]\n",
      "0.8581236645219811\n"
     ]
    }
   ],
   "source": [
    "# Wir laden die Daten neu ein\n",
    "import numpy as np\n",
    "X = np.loadtxt('datasets/kids/k_x.dat')\n",
    "X = np.reshape(X,(50,1))\n",
    "y = np.loadtxt('datasets/kids/k_y.dat')\n",
    "y = np.reshape(y,(50,1))\n",
    "\n",
    "from sklearn.linear_model import LinearRegression \n",
    "lr = LinearRegression()\n",
    "\n",
    "# Wir führen die Regression durch\n",
    "lr.fit(X,y)\n",
    "\n",
    "# Wir berechnen die Parameter, schätzen den Hauspreis und berechnen R^2\n",
    "w_0, w_1 = lr.intercept_ , lr.coef_\n",
    "print(w_0,w_1)\n",
    "print(lr.predict(np.array([[7.2,4,3.3]]).T))\n",
    "print(lr.score(X,y))"
   ]
  },
  {
   "cell_type": "markdown",
   "metadata": {},
   "source": [
    "### Multivariate Regression\n",
    "\n",
    "Ein Beispiel für eine multivariate lineare Regression schätzen wir die Preise von Häusern mittels der beiden features Größe und Anzahl Räume. Benutzen Sie wieder das LinearRegression-Modul von sklearn.\n",
    "\n",
    "- Bestimmen Sie die Parameter $(w_0,w_1,w_2)$.\n",
    "- Schätzen Sie den Preis eines Hauses der Größe 1650 und 3 Zimmer.\n",
    "- Berechnen Sie $R^2$."
   ]
  },
  {
   "cell_type": "code",
   "execution_count": 67,
   "metadata": {},
   "outputs": [
    {
     "name": "stdout",
     "output_type": "stream",
     "text": [
      "[89597.9095428] [[  139.21067402 -8738.01911233]]\n",
      "[[293081.4643349 ]\n",
      " [308780.01714811]]\n",
      "0.7329450180289142\n"
     ]
    }
   ],
   "source": [
    "import numpy as np\n",
    "X = np.loadtxt('datasets/housing/h_x.dat')\n",
    "y = np.loadtxt('datasets/housing/h_y.dat')\n",
    "y = np.reshape(y,(47,1))\n",
    "\n",
    "# Wir führen die Regression durch\n",
    "lr.fit(X,y)\n",
    "\n",
    "# Wir berechnen die Parameter, schätzen den Hauspreis und berechnen R^2\n",
    "print(lr.intercept_ , lr.coef_)\n",
    "print(lr.predict([[1650,3],[1700,2]]))\n",
    "print(lr.score(X,y))"
   ]
  },
  {
   "cell_type": "code",
   "execution_count": 63,
   "metadata": {},
   "outputs": [
    {
     "data": {
      "text/plain": [
       "array([[2.104e+03, 3.000e+00],\n",
       "       [1.600e+03, 3.000e+00],\n",
       "       [2.400e+03, 3.000e+00],\n",
       "       [1.416e+03, 2.000e+00],\n",
       "       [3.000e+03, 4.000e+00],\n",
       "       [1.985e+03, 4.000e+00],\n",
       "       [1.534e+03, 3.000e+00],\n",
       "       [1.427e+03, 3.000e+00],\n",
       "       [1.380e+03, 3.000e+00],\n",
       "       [1.494e+03, 3.000e+00],\n",
       "       [1.940e+03, 4.000e+00],\n",
       "       [2.000e+03, 3.000e+00],\n",
       "       [1.890e+03, 3.000e+00],\n",
       "       [4.478e+03, 5.000e+00],\n",
       "       [1.268e+03, 3.000e+00],\n",
       "       [2.300e+03, 4.000e+00],\n",
       "       [1.320e+03, 2.000e+00],\n",
       "       [1.236e+03, 3.000e+00],\n",
       "       [2.609e+03, 4.000e+00],\n",
       "       [3.031e+03, 4.000e+00],\n",
       "       [1.767e+03, 3.000e+00],\n",
       "       [1.888e+03, 2.000e+00],\n",
       "       [1.604e+03, 3.000e+00],\n",
       "       [1.962e+03, 4.000e+00],\n",
       "       [3.890e+03, 3.000e+00],\n",
       "       [1.100e+03, 3.000e+00],\n",
       "       [1.458e+03, 3.000e+00],\n",
       "       [2.526e+03, 3.000e+00],\n",
       "       [2.200e+03, 3.000e+00],\n",
       "       [2.637e+03, 3.000e+00],\n",
       "       [1.839e+03, 2.000e+00],\n",
       "       [1.000e+03, 1.000e+00],\n",
       "       [2.040e+03, 4.000e+00],\n",
       "       [3.137e+03, 3.000e+00],\n",
       "       [1.811e+03, 4.000e+00],\n",
       "       [1.437e+03, 3.000e+00],\n",
       "       [1.239e+03, 3.000e+00],\n",
       "       [2.132e+03, 4.000e+00],\n",
       "       [4.215e+03, 4.000e+00],\n",
       "       [2.162e+03, 4.000e+00],\n",
       "       [1.664e+03, 2.000e+00],\n",
       "       [2.238e+03, 3.000e+00],\n",
       "       [2.567e+03, 4.000e+00],\n",
       "       [1.200e+03, 3.000e+00],\n",
       "       [8.520e+02, 2.000e+00],\n",
       "       [1.852e+03, 4.000e+00],\n",
       "       [1.203e+03, 3.000e+00]])"
      ]
     },
     "execution_count": 63,
     "metadata": {},
     "output_type": "execute_result"
    }
   ],
   "source": [
    "X"
   ]
  }
 ],
 "metadata": {
  "kernelspec": {
   "display_name": "Python 3",
   "language": "python",
   "name": "python3"
  },
  "language_info": {
   "codemirror_mode": {
    "name": "ipython",
    "version": 3
   },
   "file_extension": ".py",
   "mimetype": "text/x-python",
   "name": "python",
   "nbconvert_exporter": "python",
   "pygments_lexer": "ipython3",
   "version": "3.6.5"
  }
 },
 "nbformat": 4,
 "nbformat_minor": 2
}
