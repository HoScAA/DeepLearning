{
 "cells": [
  {
   "cell_type": "markdown",
   "metadata": {},
   "source": [
    "## Prinicipal Component Analysis (PCA)\n",
    "---"
   ]
  },
  {
   "cell_type": "markdown",
   "metadata": {},
   "source": [
    "### Einführung\n",
    "\n",
    "Im Vergleich zu den bisher vorgstellten Supervised Machine Learning Verfahren stellt PCA ein Supervised Machine Learning Verfahren dar. Das Ziel der PCA besteht darin, die Dimensionalität von Daten (=die Anzahl der Features) zu reduzieren, indem die Daten auf ein neues orthogonales Koordinatensystem (mit geringerer Dimension) projeziertn werden, so dass  \n",
    "- die Korrelation der Features untereinander verschwindet (die Daten also unkorreliert sind) und\n",
    "- die Varianz der Daten bewahrt wird.\n",
    "\n",
    "Wir definieren wie üblich die Datenmatrix $\\mathbf{X}$ als\n",
    "$$\n",
    "\\mathbf{X} = \\begin{pmatrix}\\left(\\vec{x}^{(1)}\\right)^T \\\\ \\vdots \\\\ \\left(\\vec{x}^{(m)}\\right)^T \\end{pmatrix}  \\in\\mathbb{R}^{m\\times n}\n",
    "$$\n",
    "Wir betrachten als Beispiel folgende Daten mit $m=100$ Training Examples und $n=2$ Features."
   ]
  },
  {
   "cell_type": "code",
   "execution_count": 1,
   "metadata": {},
   "outputs": [],
   "source": [
    "import warnings\n",
    "warnings.filterwarnings(\"ignore\")\n",
    "import matplotlib.pyplot as plt\n",
    "import numpy as np\n",
    "\n",
    "m=100\n",
    "\n",
    "x = np.reshape(np.random.rand(m) + 0.3,(m,1))\n",
    "y = x + 0.1*np.random.randn(m,1)\n",
    "X = np.hstack((x,y))\n",
    "\n",
    "plt.scatter(X[:,0],X[:,1])\n",
    "plt.axis([-0.5,1.5,-1.5,1.5])\n",
    "plt.grid()"
   ]
  },
  {
   "cell_type": "markdown",
   "metadata": {},
   "source": [
    "Wir bestimmen den Mittelwert für jedes Feature über alle Training Examples\n",
    "$$\n",
    "\\vec{\\mu} = \\frac{1}{m}\\sum_{k=1}^m \\vec{x}^{(i)}\n",
    "$$\n",
    "und ziehen diesen dann von jedem Training Example ab, d.h.\n",
    "$$\n",
    "\\vec{x}^{(i)} \\rightarrow \\vec{x}^{(i)}-\\vec{\\mu}\n",
    "$$"
   ]
  },
  {
   "cell_type": "code",
   "execution_count": 2,
   "metadata": {},
   "outputs": [
    {
     "data": {
      "image/png": "[encoded data removed]",
      "text/plain": [
       "<Figure size 432x288 with 1 Axes>"
      ]
     },
     "metadata": {
      "needs_background": "light"
     },
     "output_type": "display_data"
    }
   ],
   "source": [
    "X = X - np.mean(X,axis=0,keepdims=True)\n",
    "\n",
    "plt.scatter(X[:,0],X[:,1])\n",
    "plt.grid()"
   ]
  },
  {
   "cell_type": "markdown",
   "metadata": {},
   "source": [
    "Wir suchen nun neue orthogonale Achsen, bezüglich derer die Daten\n",
    "- ihre maximale Varianz bewahren\n",
    "- unkorreliert sind.\n",
    "\n",
    "Wie in der Vorlesung gezeigt, kann man diese Achsen (die sogenannten Principal Components) als Eigenvektoren der Kovarianzmatrix $\\mathbf{C}$ der Datenmatrix $\\mathbf{X}$ bestimmen.\n",
    "\n",
    "Mithilfe der um den Mittelwert bereinigten Datenmatrix lässt sich die Kovarianzmatrix wie folgt berechnen\n",
    "$$\n",
    "\\mathbf{C} = \\mathbf{X}^T\\mathbf{X} \\in\\mathbb{R}^{n\\times n}\n",
    "$$"
   ]
  },
  {
   "cell_type": "code",
   "execution_count": 3,
   "metadata": {},
   "outputs": [
    {
     "name": "stdout",
     "output_type": "stream",
     "text": [
      "C=[[7.56624465 7.21083988]\n",
      " [7.21083988 7.80239081]]\n",
      "\n",
      "W=[[ 0.70129445 -0.71287172]\n",
      " [ 0.71287172  0.70129445]]\n",
      "\n",
      "L=[14.89612423  0.47251123]\n"
     ]
    },
    {
     "data": {
      "image/png": "[encoded data removed]",
      "text/plain": [
       "<Figure size 432x288 with 1 Axes>"
      ]
     },
     "metadata": {
      "needs_background": "light"
     },
     "output_type": "display_data"
    }
   ],
   "source": [
    "import math\n",
    "\n",
    "C = np.dot(X.T,X)\n",
    "print('C={}'.format(C))\n",
    "print('')\n",
    "\n",
    "# Bestimmung der Prinicpal Components ...\n",
    "L,W = np.linalg.eigh(C)\n",
    "# ... in absteigende Reihenfolge sortieren\n",
    "idx = L.argsort()[::-1]   \n",
    "L = L[idx]\n",
    "W = W[:,idx]\n",
    "print('W={}'.format(W))\n",
    "print('')\n",
    "print('L={}'.format(L))\n",
    "\n",
    "# Plotten der Daten mit PCA\n",
    "t = np.linspace(-2,2,1000)\n",
    "plt.scatter(X[:,0],X[:,1])\n",
    "plt.plot(t*W[0,0],t*W[1,0],':')\n",
    "plt.plot(t*W[0,1],t*W[1,1],':')\n",
    "plt.axes().set_aspect('equal', 'datalim')\n",
    "plt.axis([-0.75,0.75,-0.75,0.75])\n",
    "plt.grid()"
   ]
  },
  {
   "cell_type": "markdown",
   "metadata": {},
   "source": [
    "Die Matrix $\\mathbf{W}$ enthält die Principal Components $\\vec{c}_1,\\vec{c}_2,\\ldots$.\n",
    "\n",
    "Wir können die Dimension der Daten nun reduzieren, indem wir die Daten auf einen d-dimensionalen Unterraum projezieren\n",
    "$$\n",
    "\\mathbf{X}_d = \\mathbf{X}\\cdot\\mathbf{W}_d \\in\\mathbb{R}^{m\\times d}\n",
    "$$\n",
    "wobei $\\mathbf{W}_d$ die Principal Components  $\\vec{c}_1,\\vec{c}_2,\\ldots \\vec{c}_d$ mit den (absteigend) höchsten Eigenwerten enthält.\n"
   ]
  },
  {
   "cell_type": "code",
   "execution_count": null,
   "metadata": {},
   "outputs": [],
   "source": [
    "# Project Data on Principal Components (Wir nutzen d=1)\n",
    "X_d = np.dot(X,W[:,0]).reshape(m,1)\n",
    "#X_d = np.dot(X,W)\n",
    "\n",
    "plt.scatter(X_d[:,0].reshape(m,1),np.zeros((m,1)))\n",
    "#plt.scatter(np.zeros((m,1)),X_d[:,1].reshape((m,1)))\n",
    "plt.axis([-1,1,-1,1])\n",
    "plt.grid()"
   ]
  },
  {
   "cell_type": "markdown",
   "metadata": {},
   "source": [
    "Die Rücktransformation geschieht mittels\n",
    "$$\n",
    "\\mathbf{X}_{bt} = \\mathbf{X}_d\\cdot\\mathbf{W}_d^T \\in \\mathbb{R}^{m\\times n}\n",
    "$$"
   ]
  },
  {
   "cell_type": "code",
   "execution_count": null,
   "metadata": {},
   "outputs": [],
   "source": [
    "# Im neuen Koordinatensystem ist die Kovarianzmatrix diagonal\n",
    "C_d=np.cov(X_d.T)\n",
    "print(C_d)\n",
    "C_d[0,0]/np.sum(np.diag(C_d))"
   ]
  },
  {
   "cell_type": "markdown",
   "metadata": {},
   "source": [
    "### PCA mittels  Scikit-learn durchführen\n",
    "\n",
    "Im folgenden Python-Code wird das Verfahren der PCA mittels Scikit-learn vorgstellt:\n",
    "\n",
    "- Durchführen der Hintransformation"
   ]
  },
  {
   "cell_type": "code",
   "execution_count": 4,
   "metadata": {},
   "outputs": [
    {
     "name": "stdout",
     "output_type": "stream",
     "text": [
      "[0.96925484 0.03074516]\n",
      "0.9999999999999999\n"
     ]
    },
    {
     "data": {
      "image/png": "[encoded data removed]",
      "text/plain": [
       "<Figure size 432x288 with 1 Axes>"
      ]
     },
     "metadata": {
      "needs_background": "light"
     },
     "output_type": "display_data"
    }
   ],
   "source": [
    "from sklearn.decomposition import PCA\n",
    "import matplotlib.pyplot as plt\n",
    "\n",
    "#\n",
    "#d = 2\n",
    "#pca = PCA(n_components=d)\n",
    "# oder\n",
    "pca = PCA(n_components=0.98)\n",
    "\n",
    "# Entweder ...\n",
    "X_d = pca.fit_transform(X)\n",
    "# ... oder\n",
    "# pca.fit(X)\n",
    "# X_d = pca.transform(X)\n",
    "\n",
    "plt.scatter(X_d[:,0],0*X_d[:,0])\n",
    "\n",
    "print(pca.explained_variance_ratio_)\n",
    "print(np.sum(pca.explained_variance_ratio_))"
   ]
  },
  {
   "cell_type": "code",
   "execution_count": null,
   "metadata": {},
   "outputs": [],
   "source": [
    "0.46459361/(17.07496408 +0.46459361)"
   ]
  },
  {
   "cell_type": "markdown",
   "metadata": {},
   "source": [
    "- Durchführen der Rücktransformation"
   ]
  },
  {
   "cell_type": "code",
   "execution_count": null,
   "metadata": {},
   "outputs": [],
   "source": [
    "X_bp = pca.inverse_transform(X_d)\n",
    "plt.scatter(X_bp[:,0],X_bp[:,1])\n",
    "plt.grid()"
   ]
  },
  {
   "cell_type": "markdown",
   "metadata": {},
   "source": [
    "- Ausgabe der Principal Components"
   ]
  },
  {
   "cell_type": "code",
   "execution_count": 5,
   "metadata": {},
   "outputs": [
    {
     "data": {
      "text/plain": [
       "array([[ 0.70129445,  0.71287172],\n",
       "       [ 0.71287172, -0.70129445]])"
      ]
     },
     "execution_count": 5,
     "metadata": {},
     "output_type": "execute_result"
    }
   ],
   "source": [
    "pca.components_"
   ]
  },
  {
   "cell_type": "code",
   "execution_count": null,
   "metadata": {},
   "outputs": [],
   "source": [
    "=[[ 0.70129445 -0.71287172]\n",
    " [ 0.71287172  0.70129445]]"
   ]
  }
 ],
 "metadata": {
  "kernelspec": {
   "display_name": "Python 3",
   "language": "python",
   "name": "python3"
  },
  "language_info": {
   "codemirror_mode": {
    "name": "ipython",
    "version": 3
   },
   "file_extension": ".py",
   "mimetype": "text/x-python",
   "name": "python",
   "nbconvert_exporter": "python",
   "pygments_lexer": "ipython3",
   "version": "3.6.5"
  }
 },
 "nbformat": 4,
 "nbformat_minor": 2
}
