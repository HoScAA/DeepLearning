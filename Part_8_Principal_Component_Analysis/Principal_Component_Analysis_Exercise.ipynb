{
 "cells": [
  {
   "cell_type": "markdown",
   "metadata": {},
   "source": [
    "## Übung Principal Component Analysis\n",
    "---"
   ]
  },
  {
   "cell_type": "markdown",
   "metadata": {},
   "source": [
    "### MNIST Datenset\n",
    "\n",
    "- Laden Sie (analog zur letzten Vorlesung) das MNIST Datenset ein (erste 60.000 Training Set, letzte 10.000 Test Set).\n",
    "\n",
    "\n"
   ]
  },
  {
   "cell_type": "code",
   "execution_count": 1,
   "metadata": {},
   "outputs": [],
   "source": [
    "import numpy as np\n",
    "from sklearn.datasets import fetch_mldata\n",
    "\n",
    "mnist = fetch_mldata('MNIST original')\n",
    "X,y = mnist['data'], mnist['target']\n",
    "X_train, X_test, y_train, y_test = X[:60000], X[60000:], y[:60000], y[60000:]"
   ]
  },
  {
   "cell_type": "markdown",
   "metadata": {},
   "source": [
    "- Führen Sie eine PCA mit dem Training Set durch durch mit 95% erklärter Varianz. Welche Dimension d resultiert daraus für den Unterraum?"
   ]
  },
  {
   "cell_type": "code",
   "execution_count": 3,
   "metadata": {},
   "outputs": [
    {
     "data": {
      "text/plain": [
       "PCA(copy=True, iterated_power='auto', n_components=0.95, random_state=None,\n",
       "  svd_solver='auto', tol=0.0, whiten=False)"
      ]
     },
     "execution_count": 3,
     "metadata": {},
     "output_type": "execute_result"
    }
   ],
   "source": [
    "# PCA durchführen\n",
    "from sklearn.decomposition import PCA\n",
    "import matplotlib.pyplot as plt\n",
    "\n",
    "################\n",
    "# Your Code here\n",
    "################\n",
    "pca = PCA(n_components=0.95)\n",
    "pca.fit(X_test)"
   ]
  },
  {
   "cell_type": "markdown",
   "metadata": {},
   "source": [
    "- Plotten Sie dann die Daten des Test Sets entlang ersten beiden Principal Components $\\vec{c}_1$ und $\\vec{c}_2$  "
   ]
  },
  {
   "cell_type": "code",
   "execution_count": null,
   "metadata": {},
   "outputs": [],
   "source": [
    "################\n",
    "# Your Code here\n",
    "################\n",
    "\n",
    "# Nutzen Sie cmap=\"jet\" als Option beim Scatterplot und verwenden Sie anschliessend plt.colorbar() \n",
    "# zum Anzeigen der Legende\n"
   ]
  },
  {
   "cell_type": "markdown",
   "metadata": {},
   "source": [
    "Wenden Sie nochmals die Softmax-Regression auf MNIST-Test-Set an:\n",
    "- Messen Sie die benötigte Zeit für das Training\n",
    "- Berechnen Sie die Accuracy des Test Sets"
   ]
  },
  {
   "cell_type": "code",
   "execution_count": null,
   "metadata": {},
   "outputs": [],
   "source": [
    "from time import time\n",
    "from sklearn import linear_model\n",
    "\n",
    "################\n",
    "# Your Code here\n",
    "################\n",
    "\n",
    "# Mit der Befehlskette\n",
    "#\n",
    "# t0 = time()\n",
    "# Commands\n",
    "# t1 = time()-t0\n",
    "# print(t1)\n",
    "# \n",
    "# können Sie die benötigte Zeit für Commands angeben lassen.\n"
   ]
  },
  {
   "cell_type": "markdown",
   "metadata": {},
   "source": [
    "Trainieren Sie nun einen Softmax-Klassifikator mittels der mit PCA dimensionalitätsreduzierten \n",
    "Daten von oben:\n",
    "\n",
    "- Messen Sie wiederum die Zeit für das Traing\n",
    "- Berechnen Sie die Accuracy des Test Sets\n",
    "- Vergleichen Sie beide Methoden"
   ]
  },
  {
   "cell_type": "code",
   "execution_count": null,
   "metadata": {},
   "outputs": [],
   "source": [
    "################\n",
    "# Your Code here\n",
    "################\n"
   ]
  },
  {
   "cell_type": "markdown",
   "metadata": {},
   "source": [
    "### Gesichtserkennung via Eigenfaces\n",
    "\n",
    "Eine Anwendung von PCA ist die Gesichterkennung via sogenannten **Eigenfaces** (=Principal \n",
    "Components im Bildraum). Die Originalarbeit vom MIT finden Sie hier:\n",
    "\n",
    "https://www.cs.ucsb.edu/~mturk/Papers/jcn.pdf\n",
    "\n",
    "Die grundlegende Idee ist wie folgt:\n",
    "- Führe an einem Training Set $\\left(\\mathbf{X}_{\\mathrm{train}},\\vec{y}_{\\mathrm{train}}\\right)$ von Bildern eine PCA durch, d.h. erhalte die reduzierte Darstellung $\\left(\\mathbf{X}_{\\mathrm{train},d},\\vec{y}_{\\mathrm{train}}\\right)$\n",
    "- Für ein unbekanntes Bild $(\\vec{x}_{\\mathrm{test}},y_{\\mathrm{test}})$ aus dem Testest $\\left(\\mathbf{X}_{\\mathrm{test}},\\vec{y}_{\\mathrm{test}}\\right)$: Transformiere via PCA in den gleichen Unterraum wie das Training Set (d.h. erhalte $(\\vec{x}_{\\mathrm{test,d}},y_{\\mathrm{test}})$ und berechne dann den minimalen \n",
    "euklidschen Abstand \n",
    "$$\n",
    "\\min_{i} \\left|\\vec{x}_{\\mathrm{test,d}}-\\vec{x}_{\\mathrm{train,d}}^{(i)}\\right|^2 .\n",
    "$$"
   ]
  },
  {
   "cell_type": "markdown",
   "metadata": {},
   "source": [
    "- Einladen der Bilddaten"
   ]
  },
  {
   "cell_type": "code",
   "execution_count": null,
   "metadata": {},
   "outputs": [],
   "source": [
    "import numpy as np\n",
    "from sklearn.datasets import fetch_lfw_people\n",
    "from sklearn.model_selection import train_test_split\n",
    "\n",
    "# Laden der Bilddaten\n",
    "lfw_people = fetch_lfw_people(min_faces_per_person=60, resize=0.5)\n",
    "X = lfw_people.data\n",
    "y = lfw_people.target\n",
    "\n",
    "# Abmessung width(w) und height(h) der Bilder auslesen\n",
    "n_samples, h, w = lfw_people.images.shape\n",
    "\n",
    "# Splitten in Training Set und Test Set\n",
    "X_train, X_test, y_train, y_test = train_test_split(X, y, test_size=0.25)"
   ]
  },
  {
   "cell_type": "markdown",
   "metadata": {},
   "source": [
    "- Plotten Sie ein beliebiges Bild aus dem Training Set (bzw. mehrere in einem subplot)"
   ]
  },
  {
   "cell_type": "code",
   "execution_count": null,
   "metadata": {},
   "outputs": [],
   "source": [
    "################\n",
    "# Your Code here\n",
    "################\n"
   ]
  },
  {
   "cell_type": "markdown",
   "metadata": {},
   "source": [
    "- Führen Sie nun eine PCA mittels Training Set aus (d=200).\n",
    "- Berechnen Sie die erklärte Varianz.\n",
    "- Plotten Sie das **Average Face** (diesem enstpricht der Mittelwert $\\vec{\\mu}$ auf die Bildgröße geshaped) des Training Sets.\n",
    "- Plotten Sie die die ersten paar **Eigenfaces** (da sind die Principal Components $\\vec{c}_i$ auf die Bildgröße geshaped)."
   ]
  },
  {
   "cell_type": "code",
   "execution_count": null,
   "metadata": {},
   "outputs": [],
   "source": [
    "from sklearn.decomposition import PCA\n",
    "import matplotlib.pyplot as plt\n",
    "\n",
    "################\n",
    "# Your Code here\n",
    "################\n",
    "#Für die Eigenfaces können Sie folgende subplot-Befehlskette verwenden \n",
    "#plt.figure(figsize=(20,10))\n",
    "#for k in range(20):\n",
    "#    plt.subplot(5, 10 , k + 1) \n",
    "#    plt.imshow(pca.components_[k,:].reshape(h,w), cmap=plt.cm.gray)"
   ]
  },
  {
   "cell_type": "markdown",
   "metadata": {},
   "source": [
    "- Plotten Sie nun (via PCA Rücktransformation) das komprimierte Version des Bildes, das Sie oben geplottet haben."
   ]
  },
  {
   "cell_type": "code",
   "execution_count": null,
   "metadata": {},
   "outputs": [],
   "source": [
    "################\n",
    "# Your Code here\n",
    "################\n"
   ]
  },
  {
   "cell_type": "markdown",
   "metadata": {},
   "source": [
    "- Führen Sie nun für ein gegebenes Bild des Test Sets die am Anfang diese Kapitels beschriebene Routine durch: Transformiere via PCA in den gleichen Unterraum wie das Training Set (d.h. erhalte $(\\vec{x}_{\\mathrm{test,d}},y_{\\mathrm{test}})$ und berechne dann den minimalen \n",
    "euklidschen Abstand \n",
    "$$\n",
    "\\min_{i} \\left|\\vec{x}_{\\mathrm{test,d}}-\\vec{x}_{\\mathrm{train,d}}^{(i)}\\right|^2 .\n",
    "$$"
   ]
  },
  {
   "cell_type": "code",
   "execution_count": null,
   "metadata": {},
   "outputs": [],
   "source": [
    "# Unbekanntes/neues Bild einlesen ...\n",
    "t = 10\n",
    "X_fr = np.reshape(X_test[t,:],(1,h*w))\n",
    "# ... und wahres Target anzeigen lassen\n",
    "print(y_test[t])\n",
    "\n",
    "################\n",
    "# Your Code here\n",
    "################\n"
   ]
  }
 ],
 "metadata": {
  "kernelspec": {
   "display_name": "Python 3",
   "language": "python",
   "name": "python3"
  },
  "language_info": {
   "codemirror_mode": {
    "name": "ipython",
    "version": 3
   },
   "file_extension": ".py",
   "mimetype": "text/x-python",
   "name": "python",
   "nbconvert_exporter": "python",
   "pygments_lexer": "ipython3",
   "version": "3.6.5"
  }
 },
 "nbformat": 4,
 "nbformat_minor": 2
}
