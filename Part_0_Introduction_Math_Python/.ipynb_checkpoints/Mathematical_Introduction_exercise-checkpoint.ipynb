{
 "cells": [
  {
   "cell_type": "markdown",
   "metadata": {},
   "source": [
    "#  Mathematische Einführung"
   ]
  },
  {
   "cell_type": "markdown",
   "metadata": {},
   "source": [
    " ### Arrays, Matrizen und elementare Lineare Algebra"
   ]
  },
  {
   "cell_type": "markdown",
   "metadata": {},
   "source": [
    "- Erzeugen Sie eine Matrix $\\mathbf{A}\\in \\mathbb{R}^{5\\times 10}$ mit normalverteilten Zufallszahlen \n",
    "- Berechnen Sie mit dieser Matrix das (Matrix)-Produkt\n",
    "$$\\vec{A}\\cdot\\vec{x}$$\n",
    "mit dem im code angegebenen Vektor $\\vec{x} \\in \\mathbb{R}^{10}$."
   ]
  },
  {
   "cell_type": "code",
   "execution_count": null,
   "metadata": {},
   "outputs": [],
   "source": [
    "import numpy as np\n",
    "x = np.random.randn(10,1)\n",
    "#################\n",
    "## your code here\n",
    "#################\n"
   ]
  },
  {
   "cell_type": "markdown",
   "metadata": {},
   "source": [
    "Bei arrays gibt es auch das sogenannte direkte Produkt $\\mathbf{A}\\ast \\mathbf{A}$, welches eine elementweis Multiplikation der Elemente vornimmt. \n",
    "- Nehmen Sie eine elementweise Multiplikation der Matrix $\\mathbf{A}\\in \\mathbb{R}^{5\\times 10}$ vor. \n",
    "- Was für eine Matrix erhalten Sie, wenn Sie das Matrixprodukt $\\mathbf{A}\\cdot \\mathbf{A}^T$ bzw.\n",
    "$\\mathbf{A}^T\\cdot \\mathbf{A}$ bilden?"
   ]
  },
  {
   "cell_type": "code",
   "execution_count": null,
   "metadata": {},
   "outputs": [],
   "source": [
    "#################\n",
    "## your code here\n",
    "#################\n"
   ]
  },
  {
   "cell_type": "markdown",
   "metadata": {},
   "source": [
    "In späteren Kapiteln (inbesondere bei Convolutional Neural Networks) benötigen wir auch mehrdimensionale arrays. Als Beispiel betrachten wir ein $n\\times m$ grosses RGB-Farbbild. \n",
    "- Welche Größe $(n,m,k)$ hat das Farbbild\n",
    "- Erzeugen Sie ein neues Bild der Größe $(n,m,1)=(n,m)$, indem Sie für jedes Pixel über die $k$ Farbkanäle summieren. "
   ]
  },
  {
   "cell_type": "code",
   "execution_count": 3,
   "metadata": {
    "scrolled": true
   },
   "outputs": [
    {
     "data": {
      "image/png": "[encoded data removed]",
      "text/plain": [
       "<Figure size 432x288 with 1 Axes>"
      ]
     },
     "metadata": {
      "needs_background": "light"
     },
     "output_type": "display_data"
    },
    {
     "data": {
      "text/plain": [
       "(114, 325, 3)"
      ]
     },
     "execution_count": 3,
     "metadata": {},
     "output_type": "execute_result"
    }
   ],
   "source": [
    "import numpy as np\n",
    "import matplotlib.pyplot as plt\n",
    "\n",
    "test_image = plt.imread(\"test_image.png\")\n",
    "plt.imshow(test_image) \n",
    "plt.axis(\"off\")\n",
    "plt.show()\n",
    "\n",
    "#################\n",
    "## your code here\n",
    "#################"
   ]
  },
  {
   "cell_type": "markdown",
   "metadata": {},
   "source": [
    "### Analysis und mehrdimensionale Analysis"
   ]
  },
  {
   "cell_type": "markdown",
   "metadata": {},
   "source": [
    "- Plotten Sie die Höhenlinien der Funktion\n",
    "$$\n",
    "f(x,y) = (0.1 x-1)^2 + (10y+1)^2.\n",
    "$$\n",
    "- Was müssen Sie im Vergleich zum coder aus der Vorlesung ändern, damit die Höhenlinien dieser Funktion besser entsprechen?"
   ]
  },
  {
   "cell_type": "code",
   "execution_count": null,
   "metadata": {},
   "outputs": [],
   "source": [
    "import numpy as np\n",
    "import matplotlib.pyplot as plt\n",
    "#################\n",
    "## your code here\n",
    "#################\n"
   ]
  },
  {
   "cell_type": "markdown",
   "metadata": {},
   "source": [
    "### Aktivierungsfunktionen"
   ]
  },
  {
   "cell_type": "markdown",
   "metadata": {},
   "source": [
    "- Bestimmen Sie die Ableitungen $\\sigma_i'(x)$ der Aktivierungsfunktionen $\\sigma_i(x)$\n",
    "und plotten Sie diese in ein gemeinsames Schaubild.\n",
    "- Zeigen Sie inbesondere, dass für $\\sigma_1(x)$ gilt \n",
    "$$\n",
    "\\sigma_1'(x) = \\sigma_1(x)\\cdot\\left(1-\\sigma_1(x)\\right)\n",
    "$$"
   ]
  },
  {
   "cell_type": "code",
   "execution_count": null,
   "metadata": {
    "scrolled": true
   },
   "outputs": [],
   "source": [
    "import numpy as np\n",
    "import matplotlib.pyplot as plt\n",
    "#################\n",
    "## your code here\n",
    "#################\n"
   ]
  },
  {
   "cell_type": "markdown",
   "metadata": {},
   "source": [
    "### Statistik\n",
    "\n",
    "Betrachten Sie die Daten des arrays X (siehe code unten). \n",
    "- Berechnen Sie die Kovarianzmatrix $\\mathbf{C}$ \n",
    "- Berechnen Sie die Eigenwerte und Eigenvektoren der Matrix $\\mathbf{C}$. \n",
    "- Wie können Sie numerisch zeigen, dass die Eigenvektoren orthonormal sind?"
   ]
  },
  {
   "cell_type": "code",
   "execution_count": null,
   "metadata": {},
   "outputs": [],
   "source": [
    "import numpy as np\n",
    "import matplotlib.pyplot as plt\n",
    "X=np.array([[1,2,3,4,5,6],[6,5,4,3,2,1],[1,0,1,0,1,0],[2,2,2,2,2,2]])\n",
    "#################\n",
    "## your code here\n",
    "#################\n"
   ]
  },
  {
   "cell_type": "markdown",
   "metadata": {},
   "source": [
    "### Faltung\n",
    "\n",
    "Betrachten Sie folgende Signal (array s) und den Faltungskern (array g).\n",
    "- Berechnen Sie die Faltung $(s\\ast g)$\n",
    "- Plotten Sie $s$ und $(s\\ast g)$ in ein gemeinsames Schaubild\n",
    "- Plotten Sie den Faltungskern $g$ in ein seperates Schaubild.\n",
    "- Interpretieren Sie das Ergebnis"
   ]
  },
  {
   "cell_type": "code",
   "execution_count": null,
   "metadata": {},
   "outputs": [],
   "source": [
    "from scipy import signal\n",
    "\n",
    "s = np.sin(np.linspace(0,4*np.pi,1000)) + 0.1*np.random.randn(1000)\n",
    "g = signal.gaussian(50, std=7)/np.sum(signal.gaussian(50, std=7))\n",
    "#################\n",
    "## your code here\n",
    "#################\n"
   ]
  }
 ],
 "metadata": {
  "kernelspec": {
   "display_name": "Python 3",
   "language": "python",
   "name": "python3"
  },
  "language_info": {
   "codemirror_mode": {
    "name": "ipython",
    "version": 3
   },
   "file_extension": ".py",
   "mimetype": "text/x-python",
   "name": "python",
   "nbconvert_exporter": "python",
   "pygments_lexer": "ipython3",
   "version": "3.6.5"
  }
 },
 "nbformat": 4,
 "nbformat_minor": 2
}
