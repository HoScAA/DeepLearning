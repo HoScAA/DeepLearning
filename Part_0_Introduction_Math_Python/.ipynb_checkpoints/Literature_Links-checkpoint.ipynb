{
 "cells": [
  {
   "cell_type": "markdown",
   "metadata": {},
   "source": [
    "#  Literatur und weiterführend Links"
   ]
  },
  {
   "cell_type": "markdown",
   "metadata": {},
   "source": [
    "### Literatur zur Vorlesung\n",
    "\n",
    "- Aurelian Geron, Hands-On Machine Learning with Scikit-Learn and TensorFlow, Oreilly \n",
    "(https://www.amazon.de/Hands-Machine-Learning-Scikit-Learn-TensorFlow/dp/1491962291/ref=sr_1_1?ie=UTF8&qid=1552547531&sr=8-1&keywords=hands+on+machine+learning+with+scikit-learn+and+tensorflow)\n",
    "\n",
    "- Francois Chollet, Deep Learning with python, Manning        (https://www.amazon.de/Deep-Learning-Python-Francois-Chollet/dp/1617294438/ref=sr_1_1?ie=UTF8&qid=1552548266&sr=8-1&keywords=deep+learning+with+python)\n",
    "\n",
    "- Ian Goodfellow et. al., Deep Learning, MIT Press (http://www.deeplearningbook.org/)\n",
    "\n",
    "Die Vorlesung wird sich zum Großteil am ersten Buch orientieren.\n",
    "\n",
    "### Wissenschaftfliche Übersichtsartikel\n",
    "\n",
    "- Yann LeCun, Yoshua Bengio and Geoffrey Hinton, Deep Learning, Nature 521(7553):436-44, 2015 (https://www.researchgate.net/publication/277411157_Deep_Learning)\n",
    "\n",
    "### Links\n",
    "\n",
    "- Tensorflow-Playground (https://playground.tensorflow.org/)"
   ]
  }
 ],
 "metadata": {
  "kernelspec": {
   "display_name": "Python 3",
   "language": "python",
   "name": "python3"
  },
  "language_info": {
   "codemirror_mode": {
    "name": "ipython",
    "version": 3
   },
   "file_extension": ".py",
   "mimetype": "text/x-python",
   "name": "python",
   "nbconvert_exporter": "python",
   "pygments_lexer": "ipython3",
   "version": "3.6.2"
  }
 },
 "nbformat": 4,
 "nbformat_minor": 2
}
