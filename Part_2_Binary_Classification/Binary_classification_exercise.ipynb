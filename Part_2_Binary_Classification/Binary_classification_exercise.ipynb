{
 "cells": [
  {
   "cell_type": "markdown",
   "metadata": {},
   "source": [
    "# Übung Binary Classification/Logistic Regression"
   ]
  },
  {
   "cell_type": "markdown",
   "metadata": {},
   "source": [
    "### Binary Classification an einem generischen Datenset"
   ]
  },
  {
   "cell_type": "markdown",
   "metadata": {},
   "source": [
    "Als Einführung in die binäre Klassifikation generieren wir ein Training Set bestehend aus 200 Training Examples $\\vec{x}^{(i)}\\in\\mathbb{R}^2$ ($i=1,\\ldots,200$). \n",
    "Wir wählen je 100 Training Examples für jede Klasse, d.h. für die zugehörigen Targets gilt $y^{(i)}=0$ für $1\\leq i \\leq 100$ und $y^{(i)}=1$ für $101\\leq i \\leq 200$.\n",
    "\n",
    "- Gehen Sie durch folgende Code-Zeilen und erklären Sie in Worten, wie die Daten generiert werden."
   ]
  },
  {
   "cell_type": "code",
   "execution_count": null,
   "metadata": {},
   "outputs": [],
   "source": [
    "import numpy as np\n",
    "import matplotlib.pyplot as plt\n",
    "\n",
    "X1 = np.array([[2],[2]]) + 1.5*np.random.randn(2,100)\n",
    "y1 = np.zeros((100))\n",
    "X2 = np.array([[-2],[-2]]) + 1.5*np.random.randn(2,100)\n",
    "y2 = np.ones((100))\n",
    "\n",
    "X = np.hstack((X1,X2))\n",
    "y = np.hstack((y1,y2))\n",
    "\n",
    "plt.scatter(X[0,:],X[1,:],c=y)\n",
    "plt.show()"
   ]
  },
  {
   "cell_type": "markdown",
   "metadata": {},
   "source": [
    "- Bereiten Sie die Daten für das Gradient Descent Verfahren auf (d.h. bringen Sie die Targets y mit np.reshape auf die richtige Form und schreiben Sie füllen Sie die erste Zeile der Datenmatrix X mit 1 auf)."
   ]
  },
  {
   "cell_type": "code",
   "execution_count": null,
   "metadata": {},
   "outputs": [],
   "source": [
    "################\n",
    "# Your code here\n",
    "################\n"
   ]
  },
  {
   "cell_type": "markdown",
   "metadata": {},
   "source": [
    "Nutzen Sie die Testdaten von oben um \n",
    "\n",
    "- das Gradient Descent Verfahren durchzuführen.\n",
    "- einen geeigneten Plot zu erstellen, der die Decision Boundary zwischen den beiden Klassen 0 und 1 enthält.\n",
    "- die accuracy zu berechnen."
   ]
  },
  {
   "cell_type": "code",
   "execution_count": null,
   "metadata": {},
   "outputs": [],
   "source": [
    "################\n",
    "# Your code here\n",
    "################\n",
    "w = #Your code here\n",
    "alpha = 0.03\n",
    "iterations = 10000\n",
    "\n",
    "################\n",
    "# Your code here\n",
    "################\n",
    "\n",
    "    \n",
    "# Anlegen eines Gitters für den Plot der Hypothese    \n",
    "S=200\n",
    "X_p,Y_p = np.meshgrid(np.linspace(-7,7,S),np.linspace(-7,7,S))\n",
    "X_p = X_p.reshape(1,S**2)\n",
    "Y_p = Y_p.reshape(1,S**2)\n",
    "X_p = np.vstack((X_p,Y_p))\n",
    "X_p = np.vstack((np.ones((1,S**2)),X_p))\n",
    "\n",
    "################\n",
    "# Your code here\n",
    "################\n",
    "# Berechnen Sie zuerst die Hypothese für alle Daten in X_p\n",
    "\n",
    "# Plotten Sie nun analog oben in einem Scatter-Plot die Daten X_p \n",
    "# (als Parameter c übergeben sie die im die eben berechneten Hypothesenwerte)\n",
    "plt.scatter(# Your Code here, cmap=plt.cm.Spectral)\n",
    "\n",
    "# Plotten Sie nun auch die Training Examples X in den gleichen Plot\n",
    "plt.scatter(# Your Code here)\n",
    "plt.axis([-7, 7, -7, 7])\n",
    "plt.show()\n",
    "\n",
    "################\n",
    "# Your code here\n",
    "################\n",
    "\n",
    "# Berechnen Sie nun die von der Hypothese prozentual richtig prognostizierten Targets \n",
    "# (np.mean und np.round sind hilfreich)\n"
   ]
  },
  {
   "cell_type": "markdown",
   "metadata": {},
   "source": [
    "- Führen Sie die logistiche Regression mittels sklearn durch (die Plots brauchen Sie nicht erneut generieren) und berechnen Sie die acccuracy: https://scikit-learn.org/stable/modules/generated/sklearn.linear_model.LogisticRegression.html."
   ]
  },
  {
   "cell_type": "code",
   "execution_count": null,
   "metadata": {},
   "outputs": [],
   "source": [
    "from sklearn import linear_model\n",
    "logr = linear_model.LogisticRegression()\n",
    "\n",
    "################\n",
    "# Your code here\n",
    "################\n"
   ]
  },
  {
   "cell_type": "markdown",
   "metadata": {},
   "source": [
    "### Binäre Klassifikation am Beispiel von MINST\n",
    "\n",
    "Die MNIST-Datenbank (Modified National Institute of Standards und Technology Database) ist eine Datenbank mit handschriftlichen Ziffern, die üblicherweise für das Training von Machine Learning Algorithmen verwendet wird. Die \n",
    "$28\\times 28$ Pixel großen Graustufen-Bilder sind in sklearn enthalten. Wir lesen für eine binäre Klassifikation erst die Daten zweier Zahlen (z.B. 3 und 8) ein.\n",
    "\n",
    "- Plotten Sie eine beliebige Ziffer und das zugehörige Target"
   ]
  },
  {
   "cell_type": "code",
   "execution_count": null,
   "metadata": {
    "scrolled": true
   },
   "outputs": [],
   "source": [
    "import numpy as np\n",
    "import matplotlib\n",
    "import matplotlib.pyplot as plt\n",
    "from sklearn.datasets import fetch_mldata\n",
    "\n",
    "\n",
    "mnist = fetch_mldata('MNIST original', data_home='mnist_data')\n",
    "X,y =  mnist['data'], mnist['target']\n",
    "\n",
    "y_0 = y[np.where(y==3)] \n",
    "X_0 = X[np.where(y==3)]\n",
    "y_1 = y[np.where(y==8 )] \n",
    "X_1 = X[np.where(y==8 )]\n",
    "X = np.vstack((X_0,X_1))\n",
    "y = np.hstack((y_0,y_1))\n",
    "\n",
    "\n",
    "################\n",
    "# Your code here\n",
    "################\n",
    "# Plotten Sie eine beliebige Ziffer und das zugehörige Target \n",
    "# (mit plt.imshow können Sie Bilder anzeigen, reshape nicht \n",
    "# vergessen, mit der Option cmap=matplotlib.cm.binary erhalten \n",
    "# Sie ein Graustufenbild)\n"
   ]
  },
  {
   "cell_type": "markdown",
   "metadata": {},
   "source": [
    "Nutzen Sie im folgenden wieder sklearn, um\n",
    "\n",
    "- das gesamte Training Set in ein Training Set und ein Test Set zu splitten (https://scikit-learn.org/stable/modules/generated/sklearn.model_selection.train_test_split.html)\n",
    "- die logistische Regression durchzuführen\n",
    "- die Confusion Matrix zu berechnen (https://scikit-learn.org/stable/modules/generated/sklearn.metrics.confusion_matrix.html)"
   ]
  },
  {
   "cell_type": "code",
   "execution_count": null,
   "metadata": {},
   "outputs": [],
   "source": [
    "from sklearn import linear_model\n",
    "from sklearn import metrics\n",
    "from sklearn.model_selection import train_test_split\n",
    "\n",
    "################\n",
    "# Your code here\n",
    "################\n",
    "# Splitten Sie das gesamte Training Set in einen \n",
    "# Teil für das Training (80%) und einen Teil für \n",
    "# das Testen/Berechnen der accuracy (20%)\n",
    "# (Funktion train_test_split). \n",
    "\n",
    "# Führen Sie die logistische Regression anhand dem Training Set durch\n",
    "\n",
    "\n",
    "# Berechnen Sie die Performance anhand des Test Sets\n",
    "\n",
    "\n",
    "# Berechnen die Confusion-Matrix (berechnen Sie dazu zurest die predictions des Test Sets)\n"
   ]
  }
 ],
 "metadata": {
  "kernelspec": {
   "display_name": "Python 3",
   "language": "python",
   "name": "python3"
  },
  "language_info": {
   "codemirror_mode": {
    "name": "ipython",
    "version": 3
   },
   "file_extension": ".py",
   "mimetype": "text/x-python",
   "name": "python",
   "nbconvert_exporter": "python",
   "pygments_lexer": "ipython3",
   "version": "3.6.5"
  }
 },
 "nbformat": 4,
 "nbformat_minor": 2
}
